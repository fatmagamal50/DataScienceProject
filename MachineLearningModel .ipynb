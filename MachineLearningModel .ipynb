{
 "cells": [
  {
   "cell_type": "code",
   "execution_count": 19,
   "id": "1ee54942",
   "metadata": {},
   "outputs": [],
   "source": [
    "from sklearn.linear_model import LinearRegression\n",
    "import pandas as pd\n",
    "from sklearn.model_selection import train_test_split\n",
    "from sklearn.metrics import r2_score"
   ]
  },
  {
   "cell_type": "code",
   "execution_count": 20,
   "id": "d86e7163",
   "metadata": {},
   "outputs": [
    {
     "data": {
      "text/html": [
       "<div>\n",
       "<style scoped>\n",
       "    .dataframe tbody tr th:only-of-type {\n",
       "        vertical-align: middle;\n",
       "    }\n",
       "\n",
       "    .dataframe tbody tr th {\n",
       "        vertical-align: top;\n",
       "    }\n",
       "\n",
       "    .dataframe thead th {\n",
       "        text-align: right;\n",
       "    }\n",
       "</style>\n",
       "<table border=\"1\" class=\"dataframe\">\n",
       "  <thead>\n",
       "    <tr style=\"text-align: right;\">\n",
       "      <th></th>\n",
       "      <th>age</th>\n",
       "      <th>annual salary</th>\n",
       "      <th>bonus</th>\n",
       "      <th>years of experience</th>\n",
       "      <th>field years of experience</th>\n",
       "      <th>highest level of education</th>\n",
       "    </tr>\n",
       "  </thead>\n",
       "  <tbody>\n",
       "    <tr>\n",
       "      <th>age</th>\n",
       "      <td>1.000000</td>\n",
       "      <td>0.183152</td>\n",
       "      <td>0.010827</td>\n",
       "      <td>0.767405</td>\n",
       "      <td>0.633542</td>\n",
       "      <td>0.041789</td>\n",
       "    </tr>\n",
       "    <tr>\n",
       "      <th>annual salary</th>\n",
       "      <td>0.183152</td>\n",
       "      <td>1.000000</td>\n",
       "      <td>0.302129</td>\n",
       "      <td>0.229226</td>\n",
       "      <td>0.311487</td>\n",
       "      <td>0.185366</td>\n",
       "    </tr>\n",
       "    <tr>\n",
       "      <th>bonus</th>\n",
       "      <td>0.010827</td>\n",
       "      <td>0.302129</td>\n",
       "      <td>1.000000</td>\n",
       "      <td>0.036071</td>\n",
       "      <td>0.064212</td>\n",
       "      <td>-0.003912</td>\n",
       "    </tr>\n",
       "    <tr>\n",
       "      <th>years of experience</th>\n",
       "      <td>0.767405</td>\n",
       "      <td>0.229226</td>\n",
       "      <td>0.036071</td>\n",
       "      <td>1.000000</td>\n",
       "      <td>0.751795</td>\n",
       "      <td>-0.041644</td>\n",
       "    </tr>\n",
       "    <tr>\n",
       "      <th>field years of experience</th>\n",
       "      <td>0.633542</td>\n",
       "      <td>0.311487</td>\n",
       "      <td>0.064212</td>\n",
       "      <td>0.751795</td>\n",
       "      <td>1.000000</td>\n",
       "      <td>0.007457</td>\n",
       "    </tr>\n",
       "    <tr>\n",
       "      <th>highest level of education</th>\n",
       "      <td>0.041789</td>\n",
       "      <td>0.185366</td>\n",
       "      <td>-0.003912</td>\n",
       "      <td>-0.041644</td>\n",
       "      <td>0.007457</td>\n",
       "      <td>1.000000</td>\n",
       "    </tr>\n",
       "  </tbody>\n",
       "</table>\n",
       "</div>"
      ],
      "text/plain": [
       "                                 age  annual salary     bonus  \\\n",
       "age                         1.000000       0.183152  0.010827   \n",
       "annual salary               0.183152       1.000000  0.302129   \n",
       "bonus                       0.010827       0.302129  1.000000   \n",
       "years of experience         0.767405       0.229226  0.036071   \n",
       "field years of experience   0.633542       0.311487  0.064212   \n",
       "highest level of education  0.041789       0.185366 -0.003912   \n",
       "\n",
       "                            years of experience  field years of experience  \\\n",
       "age                                    0.767405                   0.633542   \n",
       "annual salary                          0.229226                   0.311487   \n",
       "bonus                                  0.036071                   0.064212   \n",
       "years of experience                    1.000000                   0.751795   \n",
       "field years of experience              0.751795                   1.000000   \n",
       "highest level of education            -0.041644                   0.007457   \n",
       "\n",
       "                            highest level of education  \n",
       "age                                           0.041789  \n",
       "annual salary                                 0.185366  \n",
       "bonus                                        -0.003912  \n",
       "years of experience                          -0.041644  \n",
       "field years of experience                     0.007457  \n",
       "highest level of education                    1.000000  "
      ]
     },
     "execution_count": 20,
     "metadata": {},
     "output_type": "execute_result"
    }
   ],
   "source": [
    "data = pd.read_csv('salaries version 1.6 - after data preprocessing.csv')\n",
    "data.corr()"
   ]
  },
  {
   "cell_type": "code",
   "execution_count": 21,
   "id": "631daf9f",
   "metadata": {},
   "outputs": [
    {
     "name": "stdout",
     "output_type": "stream",
     "text": [
      "       age           industry                                 job title  \\\n",
      "1        2  Computing or Tech  Change & Internal Communications Manager   \n",
      "8        4  Computing or Tech                           Systems Analyst   \n",
      "40       2  Computing or Tech                      Intelligence Analyst   \n",
      "42       3  Computing or Tech                          Mobile developer   \n",
      "48       3  Computing or Tech        Managed Services Sales Coordinator   \n",
      "...    ...                ...                                       ...   \n",
      "24733    1  Computing or Tech               Help Desk Associate Analyst   \n",
      "24736    4  Computing or Tech                         Technical Analyst   \n",
      "24738    2  Computing or Tech                      Software Engineer II   \n",
      "24745    3  Computing or Tech                             Porting Agent   \n",
      "24748    4  Computing or Tech                       Junior Data Analyst   \n",
      "\n",
      "       annual salary    bonus country  years of experience  \\\n",
      "1            67704.0   4960.0     GBR                    3   \n",
      "8           112000.0  10000.0     USA                    5   \n",
      "40          110000.0  20000.0     USA                    3   \n",
      "42          144600.0   2500.0     USA                    2   \n",
      "48           72000.0   3000.0     USA                    4   \n",
      "...              ...      ...     ...                  ...   \n",
      "24733        36000.0      0.0     USA                    2   \n",
      "24736        45109.0      0.0     USA                    5   \n",
      "24738       116421.0   3000.0     USA                    1   \n",
      "24745        60000.0   5000.0     USA                    5   \n",
      "24748        65000.0      0.0     USA                    5   \n",
      "\n",
      "       field years of experience  highest level of education  \\\n",
      "1                              2                         3.0   \n",
      "8                              5                         3.0   \n",
      "40                             3                         4.0   \n",
      "42                             2                         6.0   \n",
      "48                             2                         4.0   \n",
      "...                          ...                         ...   \n",
      "24733                          1                         3.0   \n",
      "24736                          0                         3.0   \n",
      "24738                          1                         3.0   \n",
      "24745                          1                         2.0   \n",
      "24748                          0                         3.0   \n",
      "\n",
      "                     gender  \n",
      "1      Prefer not to answer  \n",
      "8                     Woman  \n",
      "40                      Man  \n",
      "42                    Woman  \n",
      "48                    Woman  \n",
      "...                     ...  \n",
      "24733                   Man  \n",
      "24736                   Man  \n",
      "24738                   Man  \n",
      "24745                   Man  \n",
      "24748                   Man  \n",
      "\n",
      "[3851 rows x 10 columns]\n"
     ]
    }
   ],
   "source": [
    "filtered_data = data[data[\"industry\"] == \"Computing or Tech\"]\n",
    "\n",
    "# Print the filtered data\n",
    "print(filtered_data)"
   ]
  },
  {
   "cell_type": "code",
   "execution_count": 22,
   "id": "38aab2e6",
   "metadata": {},
   "outputs": [
    {
     "name": "stdout",
     "output_type": "stream",
     "text": [
      "Intercept: -0.7195507559974246\n",
      "Coefficients: [-6.85745435e-02  6.39011299e-01  3.03562549e-01  5.89854531e-06]\n",
      "Predicted output: [1.99823972]\n"
     ]
    },
    {
     "name": "stderr",
     "output_type": "stream",
     "text": [
      "C:\\ProgramData\\Anaconda3\\lib\\site-packages\\sklearn\\base.py:450: UserWarning: X does not have valid feature names, but LinearRegression was fitted with feature names\n",
      "  warnings.warn(\n"
     ]
    }
   ],
   "source": [
    "data = filtered_data.copy()\n",
    "# Split data into input (X) and output (y) variables\n",
    "X = data[['highest level of education',  'years of experience', 'age','annual salary']]\n",
    "y = data['field years of experience']\n",
    "model = LinearRegression()\n",
    "model.fit(X, y)\n",
    "print('Intercept:', model.intercept_)\n",
    "print('Coefficients:', model.coef_)\n",
    "new_input = np.array([[3, 3, 2, 67704]])  # highest level of education = 5, field years of experience = 3, years of experience = 8, age = 35\n",
    "predicted_output = model.predict(new_input)\n",
    "print('Predicted output:', predicted_output)"
   ]
  },
  {
   "cell_type": "code",
   "execution_count": 23,
   "id": "a0ce5ace",
   "metadata": {},
   "outputs": [
    {
     "name": "stdout",
     "output_type": "stream",
     "text": [
      "Accuracy: 0.6311956488446441\n",
      "Accuracy: 0.6791985526316592\n"
     ]
    }
   ],
   "source": [
    "data = filtered_data.copy()\n",
    "X = filtered_data[['highest level of education',  'years of experience', 'age','annual salary']]\n",
    "y = filtered_data['field years of experience']\n",
    "X_train, X_test, y_train, y_test = train_test_split(X, y, test_size=0.2, random_state=42)\n",
    "model = LinearRegression()\n",
    "model.fit(X_train, y_train)\n",
    "# Print the R-squared score\n",
    "print('Accuracy:', model.score(X_train , y_train))\n",
    "print('Accuracy:', model.score(X_test , y_test))"
   ]
  },
  {
   "cell_type": "code",
   "execution_count": null,
   "id": "e59c6b8d",
   "metadata": {},
   "outputs": [],
   "source": []
  }
 ],
 "metadata": {
  "kernelspec": {
   "display_name": "Python 3 (ipykernel)",
   "language": "python",
   "name": "python3"
  },
  "language_info": {
   "codemirror_mode": {
    "name": "ipython",
    "version": 3
   },
   "file_extension": ".py",
   "mimetype": "text/x-python",
   "name": "python",
   "nbconvert_exporter": "python",
   "pygments_lexer": "ipython3",
   "version": "3.9.12"
  }
 },
 "nbformat": 4,
 "nbformat_minor": 5
}
